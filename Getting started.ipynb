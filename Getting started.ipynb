{
 "cells": [
  {
   "cell_type": "code",
   "execution_count": 1,
   "metadata": {},
   "outputs": [],
   "source": [
    "import pandas as pd\n",
    "from sklearn.model_selection import train_test_split\n",
    "from src.data.preprocess import VCTEDataHandler, DemographicsDataHandler, ColumnsTextDataHandler\n",
    "from src.models.classifier import XGBClassifier\n",
    "import pickle"
   ]
  },
  {
   "cell_type": "code",
   "execution_count": 4,
   "metadata": {},
   "outputs": [
    {
     "name": "stdout",
     "output_type": "stream",
     "text": [
      "Unique RESPONDENT SEQUENCE NUMBER dropped after NaN filter: 5862\n",
      "Unique RESPONDENT SEQUENCE NUMBER dropped after age filter: 1308\n"
     ]
    }
   ],
   "source": [
    "pd.options.mode.chained_assignment = None\n",
    "\n",
    "vcte_handler = VCTEDataHandler()\n",
    "demographics_handler = DemographicsDataHandler()\n",
    "columns_text_handler = ColumnsTextDataHandler()\n",
    "\n",
    "parsed_dict = columns_text_handler.parse_txt_file_to_dict('data/column_names.txt')\n",
    "df_cleaned = pd.read_csv('data/raw/NhanesPrepandemicCleaned.csv')\n",
    "\n",
    "flat_dict = {}\n",
    "for section, columns in parsed_dict.items():\n",
    "    flat_dict.update(columns)\n",
    "\n",
    "df_cleaned = df_cleaned.rename(columns=flat_dict)\n",
    "\n",
    "df_vcte_filtered = vcte_handler.get_acceptable_vcte(df_cleaned)\n",
    "df_vcte_filtered = df_vcte_filtered[df_vcte_filtered['isGoodFibroScan'] == 1]\n",
    "df_vcte_filtered = vcte_handler.add_at_risk_mash(df_vcte_filtered, cutoff=0.35)\n",
    "df_vcte_filtered = vcte_handler.add_at_risk_mash(df_vcte_filtered, cutoff=0.67)\n",
    "\n",
    "df_vcte_filtered = demographics_handler.process_demographics_data(df_vcte_filtered)\n",
    "df_vcte_filtered = df_vcte_filtered[df_vcte_filtered['isHighAlcoholConsumptionGT'] == 0]\n",
    "\n",
    "cols = ['ALANINE AMINOTRANSFERASE (ALT) (U/L)',\n",
    "        'GAMMA GLUTAMYL TRANSFERASE (GGT) (IU/L)',\n",
    "        'PLATELET COUNT (1000 CELLS/UL)',\n",
    "        'AGE IN YEARS AT SCREENING',\n",
    "        'BODY MASS INDEX (KG/M**2)',\n",
    "        'isAtRiskMASH35',\n",
    "        'isAtRiskMASH67']\n",
    "\n",
    "df_vcte_filtered[cols].to_csv('data/processed/NhanesPrepandemicSubset.csv')"
   ]
  },
  {
   "cell_type": "code",
   "execution_count": 7,
   "metadata": {},
   "outputs": [],
   "source": [
    "def stratified_split(df, target, test_size=0.2, random_state=None):\n",
    "    \"\"\"\n",
    "    Splits the DataFrame into training and test sets, ensuring that the proportion\n",
    "    of the target classes is maintained in both the training and test sets.\n",
    "\n",
    "    Parameters:\n",
    "    df: pandas DataFrame\n",
    "        The DataFrame containing the features and target variable.\n",
    "    target: string\n",
    "        The name of the target variable column in the DataFrame.\n",
    "    test_size: float, default 0.2\n",
    "        Proportion of the dataset to include in the test split.\n",
    "    random_state: int, default None\n",
    "        Controls the shuffling applied to the data before applying the split.\n",
    "\n",
    "    Returns:\n",
    "    X_train, X_test, y_train, y_test: tuple of pandas DataFrame and Series\n",
    "    \"\"\"\n",
    "    X = df.drop(columns=[target])\n",
    "    y = df[target]\n",
    "    X_train, X_test, y_train, y_test = train_test_split(X, y, test_size=test_size, random_state=random_state, stratify=y)\n",
    "    return X_train, X_test, y_train, y_test"
   ]
  },
  {
   "cell_type": "code",
   "execution_count": 11,
   "metadata": {},
   "outputs": [],
   "source": [
    "df = df_vcte_filtered[cols].copy()\n",
    "df = df.drop('isAtRiskMASH35', axis=1)"
   ]
  },
  {
   "cell_type": "code",
   "execution_count": 18,
   "metadata": {},
   "outputs": [
    {
     "data": {
      "text/html": [
       "<div>\n",
       "<style scoped>\n",
       "    .dataframe tbody tr th:only-of-type {\n",
       "        vertical-align: middle;\n",
       "    }\n",
       "\n",
       "    .dataframe tbody tr th {\n",
       "        vertical-align: top;\n",
       "    }\n",
       "\n",
       "    .dataframe thead th {\n",
       "        text-align: right;\n",
       "    }\n",
       "</style>\n",
       "<table border=\"1\" class=\"dataframe\">\n",
       "  <thead>\n",
       "    <tr style=\"text-align: right;\">\n",
       "      <th></th>\n",
       "      <th>ALANINE AMINOTRANSFERASE (ALT) (U/L)</th>\n",
       "      <th>GAMMA GLUTAMYL TRANSFERASE (GGT) (IU/L)</th>\n",
       "      <th>PLATELET COUNT (1000 CELLS/UL)</th>\n",
       "      <th>AGE IN YEARS AT SCREENING</th>\n",
       "      <th>BODY MASS INDEX (KG/M**2)</th>\n",
       "      <th>isAtRiskMASH67</th>\n",
       "    </tr>\n",
       "  </thead>\n",
       "  <tbody>\n",
       "    <tr>\n",
       "      <th>count</th>\n",
       "      <td>4772.000000</td>\n",
       "      <td>4771.000000</td>\n",
       "      <td>4926.000000</td>\n",
       "      <td>5156.000000</td>\n",
       "      <td>5105.000000</td>\n",
       "      <td>5156.000000</td>\n",
       "    </tr>\n",
       "    <tr>\n",
       "      <th>mean</th>\n",
       "      <td>21.557418</td>\n",
       "      <td>29.013624</td>\n",
       "      <td>243.524158</td>\n",
       "      <td>52.172420</td>\n",
       "      <td>29.415279</td>\n",
       "      <td>0.011443</td>\n",
       "    </tr>\n",
       "    <tr>\n",
       "      <th>std</th>\n",
       "      <td>16.154043</td>\n",
       "      <td>35.420854</td>\n",
       "      <td>65.407947</td>\n",
       "      <td>18.219141</td>\n",
       "      <td>7.128276</td>\n",
       "      <td>0.106368</td>\n",
       "    </tr>\n",
       "    <tr>\n",
       "      <th>min</th>\n",
       "      <td>2.000000</td>\n",
       "      <td>2.000000</td>\n",
       "      <td>8.000000</td>\n",
       "      <td>18.000000</td>\n",
       "      <td>14.600000</td>\n",
       "      <td>0.000000</td>\n",
       "    </tr>\n",
       "    <tr>\n",
       "      <th>25%</th>\n",
       "      <td>13.000000</td>\n",
       "      <td>14.000000</td>\n",
       "      <td>200.000000</td>\n",
       "      <td>37.000000</td>\n",
       "      <td>24.500000</td>\n",
       "      <td>0.000000</td>\n",
       "    </tr>\n",
       "    <tr>\n",
       "      <th>50%</th>\n",
       "      <td>17.000000</td>\n",
       "      <td>20.000000</td>\n",
       "      <td>236.000000</td>\n",
       "      <td>55.000000</td>\n",
       "      <td>28.200000</td>\n",
       "      <td>0.000000</td>\n",
       "    </tr>\n",
       "    <tr>\n",
       "      <th>75%</th>\n",
       "      <td>25.000000</td>\n",
       "      <td>30.000000</td>\n",
       "      <td>279.000000</td>\n",
       "      <td>67.000000</td>\n",
       "      <td>33.000000</td>\n",
       "      <td>0.000000</td>\n",
       "    </tr>\n",
       "    <tr>\n",
       "      <th>max</th>\n",
       "      <td>420.000000</td>\n",
       "      <td>646.000000</td>\n",
       "      <td>818.000000</td>\n",
       "      <td>80.000000</td>\n",
       "      <td>86.200000</td>\n",
       "      <td>1.000000</td>\n",
       "    </tr>\n",
       "  </tbody>\n",
       "</table>\n",
       "</div>"
      ],
      "text/plain": [
       "       ALANINE AMINOTRANSFERASE (ALT) (U/L)  \\\n",
       "count                           4772.000000   \n",
       "mean                              21.557418   \n",
       "std                               16.154043   \n",
       "min                                2.000000   \n",
       "25%                               13.000000   \n",
       "50%                               17.000000   \n",
       "75%                               25.000000   \n",
       "max                              420.000000   \n",
       "\n",
       "       GAMMA GLUTAMYL TRANSFERASE (GGT) (IU/L)  \\\n",
       "count                              4771.000000   \n",
       "mean                                 29.013624   \n",
       "std                                  35.420854   \n",
       "min                                   2.000000   \n",
       "25%                                  14.000000   \n",
       "50%                                  20.000000   \n",
       "75%                                  30.000000   \n",
       "max                                 646.000000   \n",
       "\n",
       "       PLATELET COUNT (1000 CELLS/UL)  AGE IN YEARS AT SCREENING  \\\n",
       "count                     4926.000000                5156.000000   \n",
       "mean                       243.524158                  52.172420   \n",
       "std                         65.407947                  18.219141   \n",
       "min                          8.000000                  18.000000   \n",
       "25%                        200.000000                  37.000000   \n",
       "50%                        236.000000                  55.000000   \n",
       "75%                        279.000000                  67.000000   \n",
       "max                        818.000000                  80.000000   \n",
       "\n",
       "       BODY MASS INDEX (KG/M**2)  isAtRiskMASH67  \n",
       "count                5105.000000     5156.000000  \n",
       "mean                   29.415279        0.011443  \n",
       "std                     7.128276        0.106368  \n",
       "min                    14.600000        0.000000  \n",
       "25%                    24.500000        0.000000  \n",
       "50%                    28.200000        0.000000  \n",
       "75%                    33.000000        0.000000  \n",
       "max                    86.200000        1.000000  "
      ]
     },
     "execution_count": 18,
     "metadata": {},
     "output_type": "execute_result"
    }
   ],
   "source": [
    "df.describe()"
   ]
  },
  {
   "cell_type": "code",
   "execution_count": 20,
   "metadata": {},
   "outputs": [
    {
     "data": {
      "text/plain": [
       "isAtRiskMASH67\n",
       "0    5097\n",
       "1      59\n",
       "Name: count, dtype: int64"
      ]
     },
     "execution_count": 20,
     "metadata": {},
     "output_type": "execute_result"
    }
   ],
   "source": [
    "df.value_counts('isAtRiskMASH67')"
   ]
  },
  {
   "cell_type": "code",
   "execution_count": 21,
   "metadata": {},
   "outputs": [],
   "source": [
    "target_column = 'isAtRiskMASH67'\n",
    "X_train, X_test, y_train, y_test = stratified_split(df, target_column)"
   ]
  },
  {
   "cell_type": "code",
   "execution_count": null,
   "metadata": {},
   "outputs": [],
   "source": [
    "model = XGBClassifier(n_folds=5)\n",
    "best_params = model.optimize(X_train, y_train)"
   ]
  },
  {
   "cell_type": "code",
   "execution_count": null,
   "metadata": {},
   "outputs": [],
   "source": [
    "model.fit(X_train, y_train)"
   ]
  },
  {
   "cell_type": "code",
   "execution_count": null,
   "metadata": {},
   "outputs": [],
   "source": [
    "metrics, results_df = model.evaluate(X_test, y_test)\n",
    "metrics"
   ]
  },
  {
   "cell_type": "code",
   "execution_count": null,
   "metadata": {},
   "outputs": [],
   "source": [
    "pickle.dump(model.model, open(\"xgboost_mashai_67.pkl\", \"wb\"))"
   ]
  }
 ],
 "metadata": {
  "kernelspec": {
   "display_name": "Python 3",
   "language": "python",
   "name": "python3"
  },
  "language_info": {
   "codemirror_mode": {
    "name": "ipython",
    "version": 3
   },
   "file_extension": ".py",
   "mimetype": "text/x-python",
   "name": "python",
   "nbconvert_exporter": "python",
   "pygments_lexer": "ipython3",
   "version": "3.11.7"
  }
 },
 "nbformat": 4,
 "nbformat_minor": 2
}
